{
 "cells": [
  {
   "cell_type": "code",
   "execution_count": null,
   "id": "c96371ba",
   "metadata": {},
   "outputs": [
    {
     "name": "stdout",
     "output_type": "stream",
     "text": [
      "Analysis completed and saved to player_analysis.json\n"
     ]
    }
   ],
   "source": [
    "import pandas as pd\n",
    "import numpy as np\n",
    "import json\n",
    "\n",
    "# Load data from CSV file\n",
    "df = pd.read_csv(\"RCB_Player_Stats_IPL2024.csv\")\n",
    "\n",
    "# Calculating statistical metrics\n",
    "analysis = {}\n",
    "\n",
    "for index, row in df.iterrows():\n",
    "    player = row[\"Player\"]\n",
    "    runs = row[\"Runs\"]\n",
    "    balls_faced = row[\"Balls Faced\"]\n",
    "    wickets_taken = row[\"Wickets Taken\"]\n",
    "\n",
    "    # Calculate Strike Rate\n",
    "    if balls_faced > 0:\n",
    "        strike_rate = (runs / balls_faced) * 100\n",
    "    else:\n",
    "        strike_rate = 0\n",
    "\n",
    "    # Calculate performance probability\n",
    "    performance_prob = (strike_rate / 200) * (runs / 500) * 100  # Arbitrary probability model\n",
    "\n",
    "    # Normalized runs\n",
    "    mean_runs = df[\"Runs\"].mean()\n",
    "    std_dev_runs = df[\"Runs\"].std()\n",
    "    normalized_runs = (runs - mean_runs) / std_dev_runs if std_dev_runs != 0 else 0\n",
    "\n",
    "    # Variance of runs\n",
    "    variance_runs = np.var(df[\"Runs\"])\n",
    "\n",
    "    analysis[player] = {\n",
    "        \"Runs\": runs,\n",
    "        \"Balls Faced\": balls_faced,\n",
    "        \"Strike Rate\": round(strike_rate, 2),\n",
    "        \"Wickets Taken\": wickets_taken,\n",
    "        \"Performance Probability\": round(performance_prob, 3),\n",
    "        \"Normalized Runs\": round(normalized_runs, 3),\n",
    "        \"Run Variance\": round(variance_runs, 3),\n",
    "    }\n",
    "\n",
    "# Convert to JSON format for JavaScript\n",
    "json_output = json.dumps(analysis, indent=4)\n",
    "\n",
    "# Save the output to a file\n",
    "with open(\"player_analysis.json\", \"w\") as json_file:\n",
    "    json_file.write(json_output)\n",
    "\n",
    "print(\"Analysis completed and saved to player_analysis.json\")\n"
   ]
  },
  {
   "cell_type": "code",
   "execution_count": null,
   "id": "e7616c1e",
   "metadata": {},
   "outputs": [],
   "source": []
  }
 ],
 "metadata": {
  "kernelspec": {
   "display_name": "Python 3",
   "language": "python",
   "name": "python3"
  },
  "language_info": {
   "codemirror_mode": {
    "name": "ipython",
    "version": 3
   },
   "file_extension": ".py",
   "mimetype": "text/x-python",
   "name": "python",
   "nbconvert_exporter": "python",
   "pygments_lexer": "ipython3",
   "version": "3.13.1"
  }
 },
 "nbformat": 4,
 "nbformat_minor": 5
}
